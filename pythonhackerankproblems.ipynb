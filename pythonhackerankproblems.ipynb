{
 "cells": [
  {
   "cell_type": "code",
   "execution_count": null,
   "id": "3832e4a6",
   "metadata": {},
   "outputs": [],
   "source": [
    "#to find out leap year in python\n",
    "#An extra day is added to the calendar almost every four years as February 29, and the day is called a leap day. \n",
    "#It corrects the calendar for the fact that our planet takes approximately 365.25 days to orbit the sun. \n",
    "#A leap year contains a leap day.\n",
    "\n",
    "#In the Gregorian calendar, three conditions are used to identify leap years:\n",
    "\n",
    "#The year can be evenly divided by 4, is a leap year, unless:\n",
    "#The year can be evenly divided by 100, it is NOT a leap year, unless:\n",
    "#The year is also evenly divisible by 400. Then it is a leap year.\n",
    "\n",
    "#This means that in the Gregorian calendar, the years 2000 and 2400 are leap years,\n",
    "#while 1800, 1900, 2100, 2200, 2300 and 2500 are NOT leap years.\n",
    "\n",
    "#here are some different methods and approches to find out the leap year.\n",
    "#METHOD ONE for finding leap year\n",
    "\n",
    "year = int(input(\"enter the year:\"))\n",
    "\n",
    "if year%4 == 0:\n",
    "    if year%100 == 0:\n",
    "        if year%400 == 0:\n",
    "            print(\"yes it is leap year\")\n",
    "        else:\n",
    "            print(\"it is not a leap year\")\n",
    "    else:\n",
    "        print(\"yes it is a leap year\")\n",
    "else:\n",
    "    print(\"it is not a leap year\")"
   ]
  },
  {
   "cell_type": "code",
   "execution_count": 6,
   "id": "301b2e4d",
   "metadata": {},
   "outputs": [],
   "source": [
    "#METHOD TWO for finding leap year\n",
    "\n",
    "def Leap_yr(year):\n",
    "   \n",
    "    if(year%4 == 0) and (year%100 != 0) or (year%400 == 0):\n",
    "        return True \n",
    "    else:\n",
    "        return False\n"
   ]
  },
  {
   "cell_type": "code",
   "execution_count": 7,
   "id": "e34c126e",
   "metadata": {},
   "outputs": [
    {
     "data": {
      "text/plain": [
       "True"
      ]
     },
     "execution_count": 7,
     "metadata": {},
     "output_type": "execute_result"
    }
   ],
   "source": [
    "Leap_yr(2020)"
   ]
  },
  {
   "cell_type": "code",
   "execution_count": 8,
   "id": "a4d985e3",
   "metadata": {},
   "outputs": [
    {
     "name": "stdout",
     "output_type": "stream",
     "text": [
      "1998\n",
      "it is not a leap year\n"
     ]
    }
   ],
   "source": [
    "#METHOD three for finding leap year \n",
    "year = int(input())\n",
    "if(year%400 == 0) and (year%100 == 0):\n",
    "    print(\"yes it is a leap year\")\n",
    "elif(year%4 == 0) and (year%100 != 0):\n",
    "    print(\"yes it is a leap year\")\n",
    "else:\n",
    "    print(\"it is not a leap year\")\n",
    "    "
   ]
  },
  {
   "cell_type": "code",
   "execution_count": null,
   "id": "6945c381",
   "metadata": {},
   "outputs": [],
   "source": []
  }
 ],
 "metadata": {
  "kernelspec": {
   "display_name": "Python 3 (ipykernel)",
   "language": "python",
   "name": "python3"
  },
  "language_info": {
   "codemirror_mode": {
    "name": "ipython",
    "version": 3
   },
   "file_extension": ".py",
   "mimetype": "text/x-python",
   "name": "python",
   "nbconvert_exporter": "python",
   "pygments_lexer": "ipython3",
   "version": "3.11.1"
  }
 },
 "nbformat": 4,
 "nbformat_minor": 5
}
