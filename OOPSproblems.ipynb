{
 "cells": [
  {
   "cell_type": "code",
   "execution_count": 11,
   "id": "8d0f292f",
   "metadata": {},
   "outputs": [],
   "source": [
    "#PROBLEM 1\n",
    "#Fill in the Line class methods to accept coordinates as a pair of tuples and return the slope and distance of the line.\n",
    "#class Line(object):\n",
    "    \n",
    "    #def __init__(self,coor1,coor2):\n",
    "        #self.coor1 = coor1\n",
    "        #self.coor2 = coor2\n",
    "    \n",
    "    #def distance(self):\n",
    "        #x1,y1 = self.coor1\n",
    "        #x2,y2 = self.coor2\n",
    "        #return ((x2-x1)**2 + (y2-y1)**2)**0.5\n",
    "    \n",
    "    #def slope(self):\n",
    "        #x1,y1 = self.coor1\n",
    "        #x2,y2 = self.coor2\n",
    "        #return (y2-y1)/(x2-x1)"
   ]
  },
  {
   "cell_type": "code",
   "execution_count": 12,
   "id": "4466fc19",
   "metadata": {},
   "outputs": [],
   "source": [
    "#coordinate1 = (3,2)\n",
    "#coordinate2 = (8,10)\n",
    "\n",
    "#li = Line(coordinate1,coordinate2)"
   ]
  },
  {
   "cell_type": "code",
   "execution_count": 13,
   "id": "92cfdfa7",
   "metadata": {},
   "outputs": [],
   "source": [
    "#li.distance()"
   ]
  },
  {
   "cell_type": "code",
   "execution_count": 14,
   "id": "3a97bcfe",
   "metadata": {},
   "outputs": [],
   "source": [
    "#li.slope()"
   ]
  },
  {
   "cell_type": "code",
   "execution_count": 15,
   "id": "a4ac774e",
   "metadata": {},
   "outputs": [],
   "source": [
    "class Line(object):\n",
    "    \n",
    "    def __init__(self,coor1,coor2):\n",
    "        self.coor1 = coor1\n",
    "        self.coor2 = coor2\n",
    "    \n",
    "    def distance(self):\n",
    "        x1,y1 = self.coor1\n",
    "        x2,y2 = self.coor2\n",
    "        return ((x2-x1)**2 + (y2-y1)**2)**0.5\n",
    "    \n",
    "    def slope(self):\n",
    "        x1,y1 = self.coor1\n",
    "        x2,y2 = self.coor2\n",
    "        return (y2-y1)/(x2-x1)"
   ]
  },
  {
   "cell_type": "code",
   "execution_count": 16,
   "id": "e4514dba",
   "metadata": {},
   "outputs": [],
   "source": [
    "coordinate1 = (3,2)\n",
    "coordinate2 = (8,10)\n",
    "\n",
    "li = Line(coordinate1,coordinate2)"
   ]
  },
  {
   "cell_type": "code",
   "execution_count": 17,
   "id": "95d642f1",
   "metadata": {},
   "outputs": [
    {
     "data": {
      "text/plain": [
       "9.433981132056603"
      ]
     },
     "execution_count": 17,
     "metadata": {},
     "output_type": "execute_result"
    }
   ],
   "source": [
    "li.distance()"
   ]
  },
  {
   "cell_type": "code",
   "execution_count": 18,
   "id": "93742dc8",
   "metadata": {},
   "outputs": [
    {
     "data": {
      "text/plain": [
       "1.6"
      ]
     },
     "execution_count": 18,
     "metadata": {},
     "output_type": "execute_result"
    }
   ],
   "source": [
    "li.slope()"
   ]
  },
  {
   "cell_type": "code",
   "execution_count": 19,
   "id": "76c7c6c7",
   "metadata": {},
   "outputs": [],
   "source": [
    "#PROBLEM 2\n",
    "#Fill in the class"
   ]
  },
  {
   "cell_type": "code",
   "execution_count": 20,
   "id": "f130c806",
   "metadata": {},
   "outputs": [],
   "source": [
    "#class Cylinder:\n",
    "    \n",
    "    #def __init__(self,height=1,radius=1):\n",
    "       # pass\n",
    "        \n",
    "    #def volume(self):\n",
    "        #pass\n",
    "    \n",
    "     #def surface_area(self):\n",
    "        #pass"
   ]
  },
  {
   "cell_type": "code",
   "execution_count": 21,
   "id": "2f6d3938",
   "metadata": {},
   "outputs": [],
   "source": [
    "# EXAMPLE OUTPUT\n",
    "#c = Cylinder(2,3)"
   ]
  },
  {
   "cell_type": "code",
   "execution_count": 22,
   "id": "518bd48e",
   "metadata": {},
   "outputs": [],
   "source": [
    "#c.volume()"
   ]
  },
  {
   "cell_type": "code",
   "execution_count": 23,
   "id": "2f6dc12f",
   "metadata": {},
   "outputs": [],
   "source": [
    "#c.surface_area()"
   ]
  },
  {
   "cell_type": "code",
   "execution_count": 24,
   "id": "786d6747",
   "metadata": {},
   "outputs": [],
   "source": [
    "class Cylinder:\n",
    "    \n",
    "    def __init__(self,height=1,radius=1):\n",
    "        self.height = height\n",
    "        self.radius = radius\n",
    "        \n",
    "    def volume(self):\n",
    "        return self.height*3.14*(self.radius)**2\n",
    "    \n",
    "    def surface_area(self):\n",
    "        top = 3.14 * (self.radius)**2\n",
    "        return (2*top) + (2*3.14*self.radius*self.height)"
   ]
  },
  {
   "cell_type": "code",
   "execution_count": 25,
   "id": "6cf3b65c",
   "metadata": {},
   "outputs": [],
   "source": [
    "c = Cylinder(2,3)"
   ]
  },
  {
   "cell_type": "code",
   "execution_count": 26,
   "id": "404f5928",
   "metadata": {},
   "outputs": [
    {
     "data": {
      "text/plain": [
       "94.2"
      ]
     },
     "execution_count": 26,
     "metadata": {},
     "output_type": "execute_result"
    }
   ],
   "source": [
    "c.surface_area()"
   ]
  },
  {
   "cell_type": "code",
   "execution_count": 27,
   "id": "046c6da7",
   "metadata": {},
   "outputs": [
    {
     "data": {
      "text/plain": [
       "56.52"
      ]
     },
     "execution_count": 27,
     "metadata": {},
     "output_type": "execute_result"
    }
   ],
   "source": [
    "c.volume()"
   ]
  },
  {
   "cell_type": "code",
   "execution_count": null,
   "id": "d2e0c8c2",
   "metadata": {},
   "outputs": [],
   "source": []
  }
 ],
 "metadata": {
  "kernelspec": {
   "display_name": "Python 3 (ipykernel)",
   "language": "python",
   "name": "python3"
  },
  "language_info": {
   "codemirror_mode": {
    "name": "ipython",
    "version": 3
   },
   "file_extension": ".py",
   "mimetype": "text/x-python",
   "name": "python",
   "nbconvert_exporter": "python",
   "pygments_lexer": "ipython3",
   "version": "3.11.1"
  }
 },
 "nbformat": 4,
 "nbformat_minor": 5
}
